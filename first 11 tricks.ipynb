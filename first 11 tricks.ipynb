{
  "nbformat": 4,
  "nbformat_minor": 0,
  "metadata": {
    "colab": {
      "name": "11 tips and tricks to write better python code.ipynb",
      "provenance": [],
      "collapsed_sections": []
    },
    "kernelspec": {
      "name": "python3",
      "display_name": "Python 3"
    },
    "language_info": {
      "name": "python"
    }
  },
  "cells": [
    {
      "cell_type": "markdown",
      "source": [
        "### **1 - Iterate with `enumerate` instead of `range(len(x))`**"
      ],
      "metadata": {
        "id": "woy_4q_Hqznu"
      }
    },
    {
      "cell_type": "code",
      "source": [
        "a = [2, 4, -8, -6]\n",
        "\n",
        "for i in range(len(a)):\n",
        "  if a[i] < 0:\n",
        "    a[i] = 0\n",
        "\n",
        "print(a)"
      ],
      "metadata": {
        "colab": {
          "base_uri": "https://localhost:8080/"
        },
        "id": "51ReF-GTrGR4",
        "outputId": "38cc3872-1d33-471c-a728-8d4177747b84"
      },
      "execution_count": 25,
      "outputs": [
        {
          "output_type": "stream",
          "name": "stdout",
          "text": [
            "[2, 4, 0, 0]\n"
          ]
        }
      ]
    },
    {
      "cell_type": "code",
      "source": [
        "b = [2, 4, -8, -6]\n",
        "\n",
        "for idx, num in enumerate(b):\n",
        "  if num < 0:\n",
        "    b[idx] = 0\n",
        "\n",
        "print(b)"
      ],
      "metadata": {
        "colab": {
          "base_uri": "https://localhost:8080/"
        },
        "id": "HG7Dt8mqsBAU",
        "outputId": "351fcc1f-a34c-4bfa-ad09-920592af9fd5"
      },
      "execution_count": 26,
      "outputs": [
        {
          "output_type": "stream",
          "name": "stdout",
          "text": [
            "[2, 4, 0, 0]\n"
          ]
        }
      ]
    },
    {
      "cell_type": "markdown",
      "source": [
        "### **2 - Use `list comprehension` instead of raw for loops**"
      ],
      "metadata": {
        "id": "wZlhdk1Nso0H"
      }
    },
    {
      "cell_type": "code",
      "source": [
        "c = []\n",
        "\n",
        "for i in range(10):\n",
        "  c.append(i*i)\n",
        "\n",
        "print(c)"
      ],
      "metadata": {
        "colab": {
          "base_uri": "https://localhost:8080/"
        },
        "id": "9KH7n2eotC7Y",
        "outputId": "7e2f3f6d-0376-4bd7-e5b8-243dcdfe9beb"
      },
      "execution_count": 27,
      "outputs": [
        {
          "output_type": "stream",
          "name": "stdout",
          "text": [
            "[0, 1, 4, 9, 16, 25, 36, 49, 64, 81]\n"
          ]
        }
      ]
    },
    {
      "cell_type": "code",
      "source": [
        "d = [i*i for i in range(10)]\n",
        "\n",
        "print(d)"
      ],
      "metadata": {
        "colab": {
          "base_uri": "https://localhost:8080/"
        },
        "id": "gV8YAY1vtbND",
        "outputId": "2c5322f4-8004-41ba-9f0e-00a71652859a"
      },
      "execution_count": null,
      "outputs": [
        {
          "output_type": "stream",
          "name": "stdout",
          "text": [
            "[0, 1, 4, 9, 16, 25, 36, 49, 64, 81]\n"
          ]
        }
      ]
    },
    {
      "cell_type": "markdown",
      "source": [
        "### **3 - Sort complex iterables with `sorted()`**"
      ],
      "metadata": {
        "id": "BTK5eLnBtsaJ"
      }
    },
    {
      "cell_type": "code",
      "source": [
        "e = [6, 10, 2, 20, 18]\n",
        "sorted_e = sorted(e)\n",
        "\n",
        "print(sorted_e)"
      ],
      "metadata": {
        "colab": {
          "base_uri": "https://localhost:8080/"
        },
        "id": "269zeZP1t--G",
        "outputId": "33c86a54-afdc-4908-a163-83cf12fba9c9"
      },
      "execution_count": 28,
      "outputs": [
        {
          "output_type": "stream",
          "name": "stdout",
          "text": [
            "[2, 6, 10, 18, 20]\n"
          ]
        }
      ]
    },
    {
      "cell_type": "code",
      "source": [
        "e = [6, 10, 2, 20, 18]\n",
        "sorted_e = sorted(e, reverse=True)\n",
        "\n",
        "print(sorted_e)"
      ],
      "metadata": {
        "colab": {
          "base_uri": "https://localhost:8080/"
        },
        "id": "ihb4rfdPuorc",
        "outputId": "0dc3e6cb-32f2-41ea-c9db-b9ac9ba06abc"
      },
      "execution_count": 29,
      "outputs": [
        {
          "output_type": "stream",
          "name": "stdout",
          "text": [
            "[20, 18, 10, 6, 2]\n"
          ]
        }
      ]
    },
    {
      "cell_type": "code",
      "source": [
        "f = [{'name': 'Merve', 'age': 29},\n",
        "     {'name': 'Erkam', 'age': 28},\n",
        "     {'name': 'Tuba', 'age': 32}]\n",
        "\n",
        "sorted_f = sorted(f, key=lambda x: x['age'])\n",
        "\n",
        "print(sorted_f)"
      ],
      "metadata": {
        "colab": {
          "base_uri": "https://localhost:8080/"
        },
        "id": "PEhHhC8Gu-8F",
        "outputId": "07aa0a24-74fc-4508-83f1-10fc572687b3"
      },
      "execution_count": 30,
      "outputs": [
        {
          "output_type": "stream",
          "name": "stdout",
          "text": [
            "[{'name': 'Erkam', 'age': 28}, {'name': 'Merve', 'age': 29}, {'name': 'Tuba', 'age': 32}]\n"
          ]
        }
      ]
    },
    {
      "cell_type": "markdown",
      "source": [
        "### **4 - Store unique values with `Sets`**"
      ],
      "metadata": {
        "id": "xnROxhIKduJ0"
      }
    },
    {
      "cell_type": "code",
      "source": [
        "g = [1, 2, 3, 4, 5, 6, 7, 7, 7]\n",
        "h = set(g)\n",
        "print(h)\n",
        "\n",
        "i = {2, 3, 5, 7, 11, 13, 17, 19}\n",
        "print(i)"
      ],
      "metadata": {
        "colab": {
          "base_uri": "https://localhost:8080/"
        },
        "id": "tQeBOABRd6qg",
        "outputId": "79483866-f3f1-459e-ea24-a5f41720750b"
      },
      "execution_count": 2,
      "outputs": [
        {
          "output_type": "stream",
          "name": "stdout",
          "text": [
            "{1, 2, 3, 4, 5, 6, 7}\n",
            "{2, 3, 5, 7, 11, 13, 17, 19}\n"
          ]
        }
      ]
    },
    {
      "cell_type": "markdown",
      "source": [
        "### **5 - Save memory with `Generators`**"
      ],
      "metadata": {
        "id": "DSdAgxv4eulQ"
      }
    },
    {
      "cell_type": "code",
      "source": [
        "import sys\n",
        "\n",
        "j = [i for i in range(10000)]\n",
        "print(sum(j))\n",
        "print(sys.getsizeof(j))\n",
        "\n",
        "k = (i for i in range(10000))\n",
        "print(sum(k))\n",
        "print(sys.getsizeof(k))"
      ],
      "metadata": {
        "colab": {
          "base_uri": "https://localhost:8080/"
        },
        "id": "RniO4YA9e5XT",
        "outputId": "6379f8a1-9403-49b1-d139-45b803d25251"
      },
      "execution_count": 5,
      "outputs": [
        {
          "output_type": "stream",
          "name": "stdout",
          "text": [
            "49995000\n",
            "87632\n",
            "49995000\n",
            "128\n"
          ]
        }
      ]
    },
    {
      "cell_type": "markdown",
      "source": [
        "### **6 - Define default values in Dictionaries with `.get()` and `.setdefault()`**"
      ],
      "metadata": {
        "id": "V-TT2pzygFNM"
      }
    },
    {
      "cell_type": "code",
      "source": [
        "l = {'item': 'football', 'price': 10.0}\n",
        "\n",
        "count = l['count']\n",
        "print(count)"
      ],
      "metadata": {
        "colab": {
          "base_uri": "https://localhost:8080/",
          "height": 217
        },
        "id": "aOmL_vazgdoN",
        "outputId": "b562a35e-41c2-490a-ef0a-b9ac4d21e532"
      },
      "execution_count": 7,
      "outputs": [
        {
          "output_type": "error",
          "ename": "KeyError",
          "evalue": "ignored",
          "traceback": [
            "\u001b[0;31m---------------------------------------------------------------------------\u001b[0m",
            "\u001b[0;31mKeyError\u001b[0m                                  Traceback (most recent call last)",
            "\u001b[0;32m<ipython-input-7-500c39bbe03e>\u001b[0m in \u001b[0;36m<module>\u001b[0;34m\u001b[0m\n\u001b[1;32m      1\u001b[0m \u001b[0ml\u001b[0m \u001b[0;34m=\u001b[0m \u001b[0;34m{\u001b[0m\u001b[0;34m'item'\u001b[0m\u001b[0;34m:\u001b[0m \u001b[0;34m'football'\u001b[0m\u001b[0;34m,\u001b[0m \u001b[0;34m'price'\u001b[0m\u001b[0;34m:\u001b[0m \u001b[0;36m10.0\u001b[0m\u001b[0;34m}\u001b[0m\u001b[0;34m\u001b[0m\u001b[0;34m\u001b[0m\u001b[0m\n\u001b[1;32m      2\u001b[0m \u001b[0;34m\u001b[0m\u001b[0m\n\u001b[0;32m----> 3\u001b[0;31m \u001b[0mcount\u001b[0m \u001b[0;34m=\u001b[0m \u001b[0ml\u001b[0m\u001b[0;34m[\u001b[0m\u001b[0;34m'count'\u001b[0m\u001b[0;34m]\u001b[0m\u001b[0;34m\u001b[0m\u001b[0;34m\u001b[0m\u001b[0m\n\u001b[0m\u001b[1;32m      4\u001b[0m \u001b[0mprint\u001b[0m\u001b[0;34m(\u001b[0m\u001b[0mcount\u001b[0m\u001b[0;34m)\u001b[0m\u001b[0;34m\u001b[0m\u001b[0;34m\u001b[0m\u001b[0m\n",
            "\u001b[0;31mKeyError\u001b[0m: 'count'"
          ]
        }
      ]
    },
    {
      "cell_type": "code",
      "source": [
        "l = {'item': 'football', 'price': 10.0}\n",
        "\n",
        "count = l.get('count')\n",
        "print(count)"
      ],
      "metadata": {
        "colab": {
          "base_uri": "https://localhost:8080/"
        },
        "id": "17CjTjKZhMbc",
        "outputId": "0707fc8b-1e42-4d5e-8b57-f84ee339478e"
      },
      "execution_count": 9,
      "outputs": [
        {
          "output_type": "stream",
          "name": "stdout",
          "text": [
            "None\n"
          ]
        }
      ]
    },
    {
      "cell_type": "code",
      "source": [
        "l = {'item': 'football', 'price': 10.0}\n",
        "\n",
        "count = l.setdefault('count', 0)\n",
        "print(count)\n",
        "print(l)"
      ],
      "metadata": {
        "colab": {
          "base_uri": "https://localhost:8080/"
        },
        "id": "ibcuu9l2hmYI",
        "outputId": "56d5e6ea-8f07-4b28-c8d7-68eba0367e1b"
      },
      "execution_count": 10,
      "outputs": [
        {
          "output_type": "stream",
          "name": "stdout",
          "text": [
            "0\n",
            "{'item': 'football', 'price': 10.0, 'count': 0}\n"
          ]
        }
      ]
    },
    {
      "cell_type": "markdown",
      "source": [
        "### **7 - Count hashable objects with `collections.Counter`**"
      ],
      "metadata": {
        "id": "jf7nr0oih3Eo"
      }
    },
    {
      "cell_type": "code",
      "source": [
        "from collections import Counter\n",
        "\n",
        "o = [10, 10, 10, 5, 5, 2, 9, 9, 9, 9, 9, 9]\n",
        "counter = Counter(o)\n",
        "\n",
        "print(counter)\n",
        "print(counter[10])\n",
        "print(counter[11])\n",
        "\n",
        "most_common = counter.most_common(1)\n",
        "print(most_common)\n",
        "most_common = counter.most_common(2)\n",
        "print(most_common)\n",
        "print(most_common[0])\n",
        "print(most_common[0][0])"
      ],
      "metadata": {
        "colab": {
          "base_uri": "https://localhost:8080/"
        },
        "id": "fhB30QcoiFP2",
        "outputId": "144818fe-5414-46ff-e4d8-4a5293f40056"
      },
      "execution_count": 17,
      "outputs": [
        {
          "output_type": "stream",
          "name": "stdout",
          "text": [
            "Counter({9: 6, 10: 3, 5: 2, 2: 1})\n",
            "3\n",
            "0\n",
            "[(9, 6)]\n",
            "[(9, 6), (10, 3)]\n",
            "(9, 6)\n",
            "9\n"
          ]
        }
      ]
    },
    {
      "cell_type": "markdown",
      "source": [
        "### **8 - Format Strings with `f-Strings` (3.6+)**"
      ],
      "metadata": {
        "id": "fULOHjuGjfxo"
      }
    },
    {
      "cell_type": "code",
      "source": [
        "name = 'Alex'\n",
        "my_string = f'Hello {name}'\n",
        "print(my_string)\n",
        "\n",
        "i = 10\n",
        "print(f'{i} squared is {i*i}')"
      ],
      "metadata": {
        "colab": {
          "base_uri": "https://localhost:8080/"
        },
        "id": "V7vKQldujxJJ",
        "outputId": "5e598759-4f53-4b37-dcc5-7d360ff32841"
      },
      "execution_count": 19,
      "outputs": [
        {
          "output_type": "stream",
          "name": "stdout",
          "text": [
            "Hello Alex\n",
            "10 squared is 100\n"
          ]
        }
      ]
    },
    {
      "cell_type": "markdown",
      "source": [
        "### **9 - Concatenate strings with `.join()`**"
      ],
      "metadata": {
        "id": "nCNHpAzIkwkG"
      }
    },
    {
      "cell_type": "code",
      "source": [
        "list_of_strings = ['Hello', 'my', 'friend']\n",
        "\n",
        "# BAD!\n",
        "my_string = ''\n",
        "for i in list_of_strings:\n",
        "  my_string += i + ' '\n",
        "\n",
        "print(my_string)\n",
        "\n",
        "# GOOD!\n",
        "my_string_2 = ' '.join(list_of_strings)\n",
        "print(my_string_2)"
      ],
      "metadata": {
        "colab": {
          "base_uri": "https://localhost:8080/"
        },
        "id": "Cp483fKgk-Fx",
        "outputId": "c17db4d3-ee1c-4d8b-f1ef-3b86bb7d851f"
      },
      "execution_count": 22,
      "outputs": [
        {
          "output_type": "stream",
          "name": "stdout",
          "text": [
            "Hello my friend \n",
            "Hello my friend\n"
          ]
        }
      ]
    },
    {
      "cell_type": "markdown",
      "source": [
        "### **10 - Merge Dictionaries with** `{**d1, **d2}` **(3.5+)**"
      ],
      "metadata": {
        "id": "OF1OKAG8mKWX"
      }
    },
    {
      "cell_type": "code",
      "source": [
        "d1 = {'name': 'Erkam', 'age': 28}\n",
        "d2 = {'name': 'Erkam', 'city': 'Istanbul'}\n",
        "\n",
        "merged_dict = {**d1, **d2}\n",
        "print(merged_dict)"
      ],
      "metadata": {
        "colab": {
          "base_uri": "https://localhost:8080/"
        },
        "id": "9ciKdldrm4K2",
        "outputId": "e69fe59f-aeab-4a2a-a6c2-8dff2f992dd5"
      },
      "execution_count": 23,
      "outputs": [
        {
          "output_type": "stream",
          "name": "stdout",
          "text": [
            "{'name': 'Erkam', 'age': 28, 'city': 'Istanbul'}\n"
          ]
        }
      ]
    },
    {
      "cell_type": "markdown",
      "source": [
        "### **11 - Simplify if-statement with `if x in [a, b, c]`**"
      ],
      "metadata": {
        "id": "LpWTfcXnncLp"
      }
    },
    {
      "cell_type": "code",
      "source": [
        "colors = ['red', 'green', 'blue']\n",
        "\n",
        "c = 'red'\n",
        "\n",
        "if c == 'red' or c == 'green' or c == 'blue':\n",
        "  print('is main color')\n",
        "\n",
        "if c in colors:\n",
        "  print('is main color')"
      ],
      "metadata": {
        "colab": {
          "base_uri": "https://localhost:8080/"
        },
        "id": "siO9fgqln221",
        "outputId": "85375680-8969-4ba5-de70-65bf9a53bc03"
      },
      "execution_count": 24,
      "outputs": [
        {
          "output_type": "stream",
          "name": "stdout",
          "text": [
            "is main color\n",
            "is main color\n"
          ]
        }
      ]
    }
  ]
}